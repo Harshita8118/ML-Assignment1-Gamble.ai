{
 "cells": [
  {
   "cell_type": "markdown",
   "metadata": {},
   "source": [
    "Q1.\n",
    "- Train a decision tree model using the raw accelerometer data. Report the accuracy, precision, recall and confusion matrix of the model."
   ]
  },
  {
   "cell_type": "code",
   "execution_count": 1,
   "metadata": {},
   "outputs": [
    {
     "name": "stdout",
     "output_type": "stream",
     "text": [
      "X shape:  (7352, 561)\n",
      "y shape:  (7352, 1)\n"
     ]
    }
   ],
   "source": [
    "import pandas as pd\n",
    "\n",
    "# Reading the data from the text file into a pandas DataFrame\n",
    "X_train = pd.read_csv(\n",
    "    'data+scripts/human+activity+recognition+using+smartphones/UCI HAR Dataset/UCI HAR Dataset/train/X_train.txt',\n",
    "    sep='\\s+', # white space as delimiter\n",
    "    header=None  # No header row in the file\n",
    ")\n",
    "\n",
    "# Display the first few rows of the DataFrame\n",
    "print(\"X shape: \",X_train.shape)\n",
    "\n",
    "y_train=pd.read_csv(\n",
    "    'data+scripts/human+activity+recognition+using+smartphones/UCI HAR Dataset/UCI HAR Dataset/train/y_train.txt',\n",
    "    header=None\n",
    ")\n",
    "\n",
    "\n",
    "\n",
    "print(\"y shape: \",y_train.shape)\n"
   ]
  },
  {
   "cell_type": "code",
   "execution_count": 15,
   "metadata": {},
   "outputs": [
    {
     "name": "stdout",
     "output_type": "stream",
     "text": [
      "X test shape:  (2947, 561)\n",
      "y test shape:  (2947, 1)\n"
     ]
    }
   ],
   "source": [
    "X_test = pd.read_csv(\n",
    "    'data+scripts/human+activity+recognition+using+smartphones/UCI HAR Dataset/UCI HAR Dataset/test/X_test.txt',\n",
    "    sep='\\s+', # white space as delimiter\n",
    "    header=None  # No header row in the file\n",
    ")\n",
    "\n",
    "y_test=pd.read_csv(\n",
    "    'data+scripts/human+activity+recognition+using+smartphones/UCI HAR Dataset/UCI HAR Dataset/test/y_test.txt',\n",
    "    header=None\n",
    ")\n",
    "\n",
    "print(\"X test shape: \",X_test.shape)\n",
    "print(\"y test shape: \",y_test.shape)"
   ]
  },
  {
   "cell_type": "code",
   "execution_count": 11,
   "metadata": {},
   "outputs": [],
   "source": [
    "from sklearn.tree import DecisionTreeClassifier\n",
    "from sklearn.metrics import accuracy_score, precision_score, recall_score, confusion_matrix\n",
    "\n",
    "clf=DecisionTreeClassifier()\n",
    "clf.fit(X_train,y_train)"
   ]
  },
  {
   "cell_type": "code",
   "execution_count": 17,
   "metadata": {},
   "outputs": [
    {
     "name": "stdout",
     "output_type": "stream",
     "text": [
      "Accuracy: 0.8534102477095351\n",
      "Precision: 0.8536714208405058\n",
      "Recall: 0.8534102477095351\n",
      "Confusion Matrix:\n",
      "[[440  34  22   0   0   0]\n",
      " [ 71 362  38   0   0   0]\n",
      " [ 17  57 346   0   0   0]\n",
      " [  0   0   0 376 115   0]\n",
      " [  0   0   0  78 454   0]\n",
      " [  0   0   0   0   0 537]]\n"
     ]
    }
   ],
   "source": [
    "y_pred=clf.predict(X_test)\n",
    "\n",
    "accuracy = accuracy_score(y_test, y_pred)\n",
    "precision = precision_score(y_test, y_pred, average='weighted')\n",
    "recall = recall_score(y_test, y_pred, average='weighted')\n",
    "\n",
    "# Generate confusion matrix\n",
    "conf_matrix = confusion_matrix(y_test, y_pred)\n",
    "\n",
    "# Print the results\n",
    "print(f\"Accuracy: {accuracy}\")\n",
    "print(f\"Precision: {precision}\")\n",
    "print(f\"Recall: {recall}\")\n",
    "print(f\"Confusion Matrix:\\n{conf_matrix}\")"
   ]
  },
  {
   "cell_type": "markdown",
   "metadata": {},
   "source": [
    "- Train a decision tree model using the features obtained by TSFEL. Report the accuracy, precision, recall and confusion matrix of the model."
   ]
  },
  {
   "cell_type": "code",
   "execution_count": 3,
   "metadata": {},
   "outputs": [
    {
     "name": "stdout",
     "output_type": "stream",
     "text": [
      "*** Feature extraction started ***\n"
     ]
    },
    {
     "name": "stderr",
     "output_type": "stream",
     "text": [
      "C:\\Users\\SIDDHARTH\\AppData\\Local\\Temp\\ipykernel_5164\\2122450044.py:7: UserWarning: Using default sampling frequency set in configuration file.\n",
      "  X = tsfel.time_series_features_extractor(cfg, X_train)\n"
     ]
    },
    {
     "data": {
      "text/html": [
       "\n",
       "              <p>\n",
       "                  Progress: 100% Complete\n",
       "              <p/>\n",
       "              <progress\n",
       "                  value='67'\n",
       "                  max='67',\n",
       "                  style='width: 25%',\n",
       "              >\n",
       "                  67\n",
       "              </progress>\n",
       "\n",
       "    "
      ],
      "text/plain": [
       "<IPython.core.display.HTML object>"
      ]
     },
     "metadata": {},
     "output_type": "display_data"
    },
    {
     "name": "stdout",
     "output_type": "stream",
     "text": [
      "\n",
      "*** Feature extraction finished ***\n"
     ]
    }
   ],
   "source": [
    "import tsfel\n",
    "\n",
    "# Retrieves a pre-defined feature configuration file to extract all available features\n",
    "cfg = tsfel.get_features_by_domain()\n",
    "\n",
    "# Extract features\n",
    "X = tsfel.time_series_features_extractor(cfg, X_train)"
   ]
  },
  {
   "cell_type": "code",
   "execution_count": 4,
   "metadata": {},
   "outputs": [
    {
     "name": "stdout",
     "output_type": "stream",
     "text": [
      "   0_Absolute energy  0_Area under the curve  0_Autocorrelation  \\\n",
      "0         590.216458               20.279032                1.0   \n",
      "\n",
      "   0_Average power  0_Centroid  0_ECDF Percentile Count_0  \\\n",
      "0         8.029064   36.799967                     1470.0   \n",
      "\n",
      "   0_ECDF Percentile Count_1  0_ECDF Percentile_0  0_ECDF Percentile_1  \\\n",
      "0                     5881.0             0.251813             0.297819   \n",
      "\n",
      "   0_ECDF_0  ...  9_Wavelet variance_0  9_Wavelet variance_1  \\\n",
      "0  0.000136  ...              0.016661              0.048661   \n",
      "\n",
      "   9_Wavelet variance_2  9_Wavelet variance_3  9_Wavelet variance_4  \\\n",
      "0              0.098559              0.167499              0.252665   \n",
      "\n",
      "   9_Wavelet variance_5  9_Wavelet variance_6  9_Wavelet variance_7  \\\n",
      "0              0.345791              0.437894              0.526745   \n",
      "\n",
      "   9_Wavelet variance_8  9_Zero crossing rate  \n",
      "0              0.620027                 419.0  \n",
      "\n",
      "[1 rows x 218229 columns]\n",
      "Index(['0_Absolute energy', '0_Area under the curve', '0_Autocorrelation',\n",
      "       '0_Average power', '0_Centroid', '0_ECDF Percentile Count_0',\n",
      "       '0_ECDF Percentile Count_1', '0_ECDF Percentile_0',\n",
      "       '0_ECDF Percentile_1', '0_ECDF_0',\n",
      "       ...\n",
      "       '9_Wavelet variance_0', '9_Wavelet variance_1', '9_Wavelet variance_2',\n",
      "       '9_Wavelet variance_3', '9_Wavelet variance_4', '9_Wavelet variance_5',\n",
      "       '9_Wavelet variance_6', '9_Wavelet variance_7', '9_Wavelet variance_8',\n",
      "       '9_Zero crossing rate'],\n",
      "      dtype='object', length=218229)\n"
     ]
    }
   ],
   "source": [
    "# Display the first few rows of the extracted features\n",
    "print(X.head())\n",
    "\n",
    "# To see the names of all the features extracted\n",
    "print(X.columns)"
   ]
  },
  {
   "cell_type": "markdown",
   "metadata": {},
   "source": [
    "- Train a decision tree model using the features provided in the dataset. Report the accuracy, precision, recall and confusion matrix of the model.\n"
   ]
  },
  {
   "cell_type": "code",
   "execution_count": null,
   "metadata": {},
   "outputs": [],
   "source": []
  }
 ],
 "metadata": {
  "kernelspec": {
   "display_name": "Python 3",
   "language": "python",
   "name": "python3"
  },
  "language_info": {
   "codemirror_mode": {
    "name": "ipython",
    "version": 3
   },
   "file_extension": ".py",
   "mimetype": "text/x-python",
   "name": "python",
   "nbconvert_exporter": "python",
   "pygments_lexer": "ipython3",
   "version": "3.10.14"
  }
 },
 "nbformat": 4,
 "nbformat_minor": 2
}
